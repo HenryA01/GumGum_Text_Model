{
  "cells": [
    {
      "cell_type": "code",
      "execution_count": null,
      "metadata": {
        "id": "bvPLytK98xKp"
      },
      "outputs": [],
      "source": [
        "!pip install datasets"
      ]
    },
    {
      "cell_type": "code",
      "execution_count": null,
      "metadata": {
        "id": "faiWSGmg5duz"
      },
      "outputs": [],
      "source": [
        "import pandas as pd\n",
        "\n",
        "bbkpi_df = pd.read_csv('/content/bbkpi_gold.csv')\n",
        "ground_truth_cols = [c for c in bbkpi_df.columns[2:] if not c.endswith('_pred')]\n",
        "verity_prediction_cols = [c for c in bbkpi_df.columns[2:] if c.endswith('_pred')]\n",
        "\n",
        "bbkpi_df.head()"
      ]
    },
    {
      "cell_type": "code",
      "source": [
        "prod_silver_df = pd.read_csv('/content/prod_silver.csv')\n",
        "prod_silver_df = prod_silver_df[['TIMESTAMP', 'VIDEO_UUID', 'INTERVAL_ID', 'TEXT', 'LANGUAGE_CODE'] + ground_truth_cols]\n",
        "prod_silver_df.head()"
      ],
      "metadata": {
        "id": "P3SWGAssQLWv"
      },
      "execution_count": null,
      "outputs": []
    },
    {
      "cell_type": "code",
      "execution_count": null,
      "metadata": {
        "id": "MIJvUaBl6NPj"
      },
      "outputs": [],
      "source": [
        "import numpy as np\n",
        "from datasets import Dataset\n",
        "pre_train_df = pd.DataFrame({'text' : prod_silver_df['TEXT'].tolist(),\n",
        "                        'labels' : [x for x in prod_silver_df[ground_truth_cols].values.astype(float)]})\n",
        "pre_train_df = pre_train_df[pre_train_df['text'].apply(lambda s : isinstance(s, str) and len(s) >= 1)]\n",
        "\n",
        "print(len(pre_train_df))\n",
        "dataset = Dataset.from_pandas(pre_train_df)\n",
        "pre_train_df.head()"
      ]
    },
    {
      "cell_type": "code",
      "source": [
        "pre_test_df = pd.DataFrame({'text' : bbkpi_df['text'].tolist(),\n",
        "                        'labels' : [x for x in bbkpi_df[ground_truth_cols].values.astype(float)]})\n",
        "pre_test_df = pre_test_df[pre_test_df['text'].apply(lambda s : isinstance(s, str) and len(s) >= 1)]\n",
        "\n",
        "print(len(pre_test_df))\n",
        "test_dataset = Dataset.from_pandas(pre_test_df)\n",
        "pre_test_df.head()"
      ],
      "metadata": {
        "id": "77ArhWXARanj"
      },
      "execution_count": null,
      "outputs": []
    },
    {
      "cell_type": "code",
      "execution_count": null,
      "metadata": {
        "id": "dJVzG-Z39GlP"
      },
      "outputs": [],
      "source": [
        "from transformers import AutoTokenizer\n",
        "\n",
        "tokenizer = AutoTokenizer.from_pretrained(\"bert-base-uncased\")\n",
        "\n",
        "def tokenize_function(examples):\n",
        "    return tokenizer(examples[\"text\"], padding=\"max_length\", truncation=True)\n",
        "\n",
        "tokenized_train_dataset = dataset.map(tokenize_function, batched=True)\n",
        "test_dataset = test_dataset.map(tokenize_function, batched=True)\n",
        "all_datasets = tokenized_train_dataset.train_test_split(test_size=0.2)\n",
        "train_dataset = all_datasets[\"train\"]\n",
        "val_dataset = all_datasets[\"test\"]"
      ]
    },
    {
      "cell_type": "code",
      "execution_count": null,
      "metadata": {
        "id": "rGblp6hK7I7L"
      },
      "outputs": [],
      "source": [
        "from transformers import AutoModelForSequenceClassification\n",
        "\n",
        "id2label = dict((i, l) for i, l in enumerate(ground_truth_cols))\n",
        "label2id = dict((l, i) for i, l in id2label.items())\n",
        "\n",
        "model = AutoModelForSequenceClassification.from_pretrained('bert-base-uncased',\n",
        "                                                           problem_type=\"multi_label_classification\",\n",
        "                                                           num_labels=len(id2label),\n",
        "                                                           id2label = id2label,\n",
        "                                                           label2id = label2id).to('cuda')"
      ]
    },
    {
      "cell_type": "code",
      "execution_count": null,
      "metadata": {
        "id": "bqijb3mzAMLX"
      },
      "outputs": [],
      "source": [
        "from transformers import TrainingArguments\n",
        "training_args = TrainingArguments(\n",
        "    output_dir=\"./results\",\n",
        "    evaluation_strategy=\"epoch\",\n",
        "    per_device_train_batch_size=32,\n",
        "    per_device_eval_batch_size=32,\n",
        "    num_train_epochs=3,\n",
        "    logging_dir='./logs',\n",
        ")\n"
      ]
    },
    {
      "cell_type": "code",
      "execution_count": null,
      "metadata": {
        "id": "r3pTmIH0BAH8"
      },
      "outputs": [],
      "source": [
        "from sklearn.metrics import accuracy_score, f1_score\n",
        "\n",
        "def compute_multilabel_metrics(predictions, labels, threshold=0.5):\n",
        "        # first, apply sigmoid on predictions which are of shape (batch_size, num_labels)\n",
        "        sigmoid = torch.nn.Sigmoid()\n",
        "        probs = sigmoid(torch.Tensor(predictions))\n",
        "        y_pred = np.zeros(probs.shape)\n",
        "        # next, use threshold to turn them into integer predictions\n",
        "        y_pred[np.where(probs >= threshold)] = 1\n",
        "\n",
        "        # finally, compute metrics\n",
        "        y_true = labels\n",
        "        f1_micro_average = f1_score(y_true=y_true, y_pred=y_pred, average='micro')\n",
        "        f1_macro_average = f1_score(y_true=y_true, y_pred=y_pred, average='macro')\n",
        "        accuracy = accuracy_score(y_true, y_pred)\n",
        "        # return as dictionary\n",
        "        metrics = {'f1_micro': f1_micro_average,\n",
        "               'f1_macro': f1_macro_average,\n",
        "               'accuracy': accuracy}\n",
        "        return metrics\n",
        "\n",
        "def compute_metrics(p):\n",
        "        preds = p.predictions[0] if isinstance(p.predictions, tuple) else p.predictions\n",
        "\n",
        "        result = compute_multilabel_metrics(\n",
        "            predictions=preds,\n",
        "            labels=p.label_ids)\n",
        "        return result"
      ]
    },
    {
      "cell_type": "code",
      "execution_count": null,
      "metadata": {
        "id": "qScQNrHQ_skP"
      },
      "outputs": [],
      "source": [
        "from transformers import Trainer\n",
        "import torch\n",
        "\n",
        "# Custom Trainer to use BCEWithLogitsLoss\n",
        "class MultilabelTrainer(Trainer):\n",
        "    def compute_loss(self, model, inputs, return_outputs=False):\n",
        "        labels = inputs.get(\"labels\")\n",
        "        outputs = model(**inputs)\n",
        "        logits = outputs.get(\"logits\")\n",
        "        loss_fct = torch.nn.BCEWithLogitsLoss()\n",
        "        loss = loss_fct(logits, labels.float())\n",
        "        return (loss, outputs) if return_outputs else loss\n",
        "\n",
        "trainer = MultilabelTrainer(\n",
        "    model=model,\n",
        "    args=training_args,\n",
        "    train_dataset=train_dataset,\n",
        "    eval_dataset=val_dataset,\n",
        "    compute_metrics=compute_metrics\n",
        ")\n",
        "\n",
        "trainer.train()"
      ]
    },
    {
      "cell_type": "code",
      "execution_count": null,
      "metadata": {
        "id": "fBo1AetdAQ9i"
      },
      "outputs": [],
      "source": []
    }
  ],
  "metadata": {
    "accelerator": "GPU",
    "colab": {
      "gpuType": "T4",
      "provenance": []
    },
    "kernelspec": {
      "display_name": "Python 3",
      "name": "python3"
    },
    "language_info": {
      "name": "python"
    }
  },
  "nbformat": 4,
  "nbformat_minor": 0
}